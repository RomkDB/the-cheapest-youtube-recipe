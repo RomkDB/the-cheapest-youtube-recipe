{
 "cells": [
  {
   "cell_type": "code",
   "execution_count": 4,
   "metadata": {
    "colab": {
     "base_uri": "https://localhost:8080/"
    },
    "id": "2o2DJWgOCK28",
    "outputId": "030bfd48-a73c-4384-863b-7e64027e9cb7"
   },
   "outputs": [
    {
     "name": "stdout",
     "output_type": "stream",
     "text": [
      "                  식품코드     식품명 데이터구분코드 데이터구분명  식품기원코드       식품기원명  식품대분류코드  \\\n",
      "0  D106-268000000-0001     꽃게탕       D     음식       1  가정식(분석 함량)        6   \n",
      "1  D106-270000000-0001    낙지전골       D     음식       1  가정식(분석 함량)        6   \n",
      "2  D106-272000000-0001     동태국       D     음식       1  가정식(분석 함량)        6   \n",
      "3  D106-273000000-0001    동태찌개       D     음식       1  가정식(분석 함량)        6   \n",
      "4  D106-274000000-0001  돼지고기찌개       D     음식       1  가정식(분석 함량)        6   \n",
      "\n",
      "     식품대분류명  대표식품코드   대표식품명  ...  출처코드       출처명  식품중량   업체명  데이터생성방법코드  \\\n",
      "0  찌개 및 전골류    6268     꽃게탕  ...     3  식품의약품안전처  600g  해당없음          1   \n",
      "1  찌개 및 전골류    6270    낙지전골  ...     3  식품의약품안전처  300g  해당없음          1   \n",
      "2  찌개 및 전골류    6272     동태국  ...     3  식품의약품안전처  400g  해당없음          1   \n",
      "3  찌개 및 전골류    6273    동태찌개  ...     3  식품의약품안전처  200g  해당없음          1   \n",
      "4  찌개 및 전골류    6274  돼지고기찌개  ...     3  식품의약품안전처  300g  해당없음          1   \n",
      "\n",
      "  데이터생성방법명     데이터생성일자     데이터기준일자   제공기관코드     제공기관명  \n",
      "0       분석  2019-12-31  2023-12-27  1471000  식품의약품안전처  \n",
      "1       분석  2017-12-31  2023-12-27  1471000  식품의약품안전처  \n",
      "2       분석  2017-12-31  2023-12-27  1471000  식품의약품안전처  \n",
      "3       분석  2018-12-31  2023-12-27  1471000  식품의약품안전처  \n",
      "4       분석  2017-12-31  2023-12-27  1471000  식품의약품안전처  \n",
      "\n",
      "[5 rows x 51 columns]\n",
      "<class 'pandas.core.frame.DataFrame'>\n",
      "RangeIndex: 12242 entries, 0 to 12241\n",
      "Data columns (total 51 columns):\n",
      " #   Column         Non-Null Count  Dtype  \n",
      "---  ------         --------------  -----  \n",
      " 0   식품코드           12242 non-null  object \n",
      " 1   식품명            12242 non-null  object \n",
      " 2   데이터구분코드        12242 non-null  object \n",
      " 3   데이터구분명         12242 non-null  object \n",
      " 4   식품기원코드         12242 non-null  int64  \n",
      " 5   식품기원명          12242 non-null  object \n",
      " 6   식품대분류코드        12242 non-null  int64  \n",
      " 7   식품대분류명         12242 non-null  object \n",
      " 8   대표식품코드         12242 non-null  int64  \n",
      " 9   대표식품명          12242 non-null  object \n",
      " 10  식품중분류코드        12242 non-null  int64  \n",
      " 11  식품중분류명         12242 non-null  object \n",
      " 12  식품소분류코드        12242 non-null  int64  \n",
      " 13  식품소분류명         12242 non-null  object \n",
      " 14  식품세분류코드        12242 non-null  int64  \n",
      " 15  식품세분류명         12242 non-null  object \n",
      " 16  영양성분함량기준량      12242 non-null  object \n",
      " 17  에너지(kcal)      12242 non-null  int64  \n",
      " 18  수분(g)          1130 non-null   float64\n",
      " 19  단백질(g)         12242 non-null  float64\n",
      " 20  지방(g)          3373 non-null   float64\n",
      " 21  회분(g)          1130 non-null   float64\n",
      " 22  탄수화물(g)        3819 non-null   float64\n",
      " 23  당류(g)          12137 non-null  float64\n",
      " 24  식이섬유(g)        1728 non-null   float64\n",
      " 25  칼슘(mg)         1743 non-null   float64\n",
      " 26  철(mg)          1741 non-null   float64\n",
      " 27  인(mg)          1743 non-null   float64\n",
      " 28  칼륨(mg)         1743 non-null   float64\n",
      " 29  나트륨(mg)        12197 non-null  float64\n",
      " 30  비타민 A(μg RAE)  1453 non-null   float64\n",
      " 31  레티놀(μg)        1742 non-null   float64\n",
      " 32  베타카로틴(μg)      1738 non-null   float64\n",
      " 33  티아민(mg)        1741 non-null   float64\n",
      " 34  리보플라빈(mg)      1743 non-null   float64\n",
      " 35  니아신(mg)        1742 non-null   float64\n",
      " 36  비타민 C(mg)      1742 non-null   float64\n",
      " 37  비타민 D(μg)      1461 non-null   float64\n",
      " 38  콜레스테롤(mg)      3371 non-null   float64\n",
      " 39  포화지방산(g)       11861 non-null  float64\n",
      " 40  트랜스지방산(g)      2628 non-null   float64\n",
      " 41  출처코드           12242 non-null  int64  \n",
      " 42  출처명            12242 non-null  object \n",
      " 43  식품중량           12230 non-null  object \n",
      " 44  업체명            12242 non-null  object \n",
      " 45  데이터생성방법코드      12242 non-null  int64  \n",
      " 46  데이터생성방법명       12242 non-null  object \n",
      " 47  데이터생성일자        12242 non-null  object \n",
      " 48  데이터기준일자        12242 non-null  object \n",
      " 49  제공기관코드         12242 non-null  int64  \n",
      " 50  제공기관명          12242 non-null  object \n",
      "dtypes: float64(23), int64(10), object(18)\n",
      "memory usage: 4.8+ MB\n",
      "\n",
      "데이터프레임 정보:\n",
      " None\n",
      "\n",
      "기술통계량:\n",
      "              식품기원코드       식품대분류코드        대표식품코드       식품중분류코드       식품소분류코드  \\\n",
      "count  12242.000000  12242.000000  12242.000000  1.224200e+04  1.224200e+04   \n",
      "mean       2.182078      9.150302   9518.603578  9.518616e+05  9.518616e+07   \n",
      "std        0.831589      8.294501   8585.032041  8.585027e+05  8.585027e+07   \n",
      "min        1.000000      1.000000   1001.000000  1.001000e+05  1.001000e+07   \n",
      "25%        2.000000      2.000000   2120.000000  2.120000e+05  2.120000e+07   \n",
      "50%        2.000000      2.000000   2131.000000  2.131000e+05  2.131000e+07   \n",
      "75%        2.000000     20.000000  20723.000000  2.072300e+06  2.072300e+08   \n",
      "max        7.000000     27.000000  27762.000000  2.776200e+06  2.776200e+08   \n",
      "\n",
      "            식품세분류코드     에너지(kcal)        수분(g)        단백질(g)        지방(g)  \\\n",
      "count  12242.000000  12242.000000  1130.000000  12242.000000  3373.000000   \n",
      "mean       0.000817    187.168355    70.707965      6.581586     7.671029   \n",
      "std        0.049499    126.008682    18.811790      5.722045     7.059365   \n",
      "min        0.000000      0.000000     2.200000      0.000000     0.000000   \n",
      "25%        0.000000     67.000000    60.475000      1.620000     1.590000   \n",
      "50%        0.000000    213.000000    74.300000      5.100000     6.030000   \n",
      "75%        0.000000    275.000000    85.675000     11.090000    11.830000   \n",
      "max        4.000000    808.000000    99.200000     58.620000    60.250000   \n",
      "\n",
      "       ...    리보플라빈(mg)      니아신(mg)    비타민 C(mg)    비타민 D(μg)    콜레스테롤(mg)  \\\n",
      "count  ...  1743.000000  1742.000000  1742.000000  1461.000000  3371.000000   \n",
      "mean   ...     0.112091     1.061596     2.293731     0.261923    24.620697   \n",
      "std    ...     0.175370     2.285253     5.328694     1.078198    42.559906   \n",
      "min    ...     0.000000     0.000000     0.000000     0.000000     0.000000   \n",
      "25%    ...     0.045000     0.193250     0.070000     0.000000     0.060000   \n",
      "50%    ...     0.079000     0.453500     0.740000     0.000000    14.600000   \n",
      "75%    ...     0.135000     1.099000     2.287500     0.000000    29.670000   \n",
      "max    ...     5.162000    45.989000    84.510000    13.990000   686.620000   \n",
      "\n",
      "           포화지방산(g)    트랜스지방산(g)          출처코드     데이터생성방법코드     제공기관코드  \n",
      "count  11861.000000  2628.000000  12242.000000  12242.000000    12242.0  \n",
      "mean       3.690810     0.257401      2.984153      1.959729  1471000.0  \n",
      "std        3.718576     0.991325      0.177329      0.372569        0.0  \n",
      "min        0.000000     0.000000      1.000000      1.000000  1471000.0  \n",
      "25%        0.850000     0.000000      3.000000      2.000000  1471000.0  \n",
      "50%        2.840000     0.030000      3.000000      2.000000  1471000.0  \n",
      "75%        5.230000     0.180000      3.000000      2.000000  1471000.0  \n",
      "max       30.000000     9.900000      3.000000      3.000000  1471000.0  \n",
      "\n",
      "[8 rows x 33 columns]\n"
     ]
    }
   ],
   "source": [
    "import pandas as pd\n",
    "\n",
    "# CSV 파일을 읽어와 데이터프레임으로 저장하기\n",
    "csv_file_path = '../1_raw_download/cook.csv'\n",
    "df = pd.read_csv(csv_file_path, encoding='cp949')\n",
    "\n",
    "# 데이터프레임의 처음 5개 행 출력\n",
    "print(df.head())\n",
    "\n",
    "# 데이터프레임의 기본 정보 출력\n",
    "print(\"\\n데이터프레임 정보:\\n\", df.info())\n",
    "\n",
    "# 데이터프레임의 기술통계량 출력\n",
    "print(\"\\n기술통계량:\\n\", df.describe())"
   ]
  },
  {
   "cell_type": "markdown",
   "metadata": {
    "id": "KdGqySzOFzRd"
   },
   "source": [
    "식품명 확인"
   ]
  },
  {
   "cell_type": "code",
   "execution_count": 5,
   "metadata": {
    "colab": {
     "base_uri": "https://localhost:8080/"
    },
    "id": "QcmRa5yyCk6a",
    "outputId": "3b554476-769f-4fd5-a2e2-b3360361af7e"
   },
   "outputs": [
    {
     "name": "stdout",
     "output_type": "stream",
     "text": [
      "식품명\n",
      "커피_카페모카 아이스(ICED)    17\n",
      "커피_카페라떼 아이스(ICED)    16\n",
      "커피_카페모카 핫(HOT)       16\n",
      "커피_카페라떼 핫(HOT)       16\n",
      "커피_아메리카노 핫(HOT)      15\n",
      "                     ..\n",
      "피자_치즈피자 (M)           1\n",
      "피자_치즈피자 (XL)          1\n",
      "피자_치즈피자(XL)           1\n",
      "피자_치즈피자리치골드(L)        1\n",
      "카레소스                  1\n",
      "Name: count, Length: 10770, dtype: int64\n"
     ]
    }
   ],
   "source": [
    "# 특정 열의 값의 개수 세기\n",
    "food_count = df['식품명'].value_counts()\n",
    "print(food_count)"
   ]
  },
  {
   "cell_type": "code",
   "execution_count": 6,
   "metadata": {
    "colab": {
     "base_uri": "https://localhost:8080/"
    },
    "id": "duDS9L0TD3aB",
    "outputId": "7bcb9931-aa56-48b9-c6bb-8d2b0960b41b"
   },
   "outputs": [
    {
     "name": "stdout",
     "output_type": "stream",
     "text": [
      "식품명\n",
      "커피_카페모카 아이스(ICED)    17\n",
      "커피_카페라떼 아이스(ICED)    16\n",
      "커피_카페모카 핫(HOT)       16\n",
      "커피_카페라떼 핫(HOT)       16\n",
      "커피_아메리카노 핫(HOT)      15\n",
      "                     ..\n",
      "크로플_바닐라 아이스크림 크로플     2\n",
      "도넛_미니찹쌀도넛             2\n",
      "훈제오리                  2\n",
      "도넛_찹쌀도넛               2\n",
      "새송이버섯볶음_새송이버섯_채소      2\n",
      "Name: count, Length: 758, dtype: int64\n"
     ]
    }
   ],
   "source": [
    "# prompt: food_count에서 1이상인 이름만 필터링\n",
    "\n",
    "filtered_food_count = food_count[food_count > 1]\n",
    "print(filtered_food_count)"
   ]
  },
  {
   "cell_type": "markdown",
   "metadata": {
    "id": "k5gt5VX4IehH"
   },
   "source": [
    "각 컬럼 데이터 파악하기\n"
   ]
  },
  {
   "cell_type": "code",
   "execution_count": 12,
   "metadata": {
    "colab": {
     "base_uri": "https://localhost:8080/"
    },
    "id": "y4dSFRpLEIXA",
    "outputId": "2aa6c4a0-7c0f-49b7-d937-0c961f4f90a7"
   },
   "outputs": [
    {
     "name": "stdout",
     "output_type": "stream",
     "text": [
      "--- 식품명 열의 값 등장 횟수 ---\n",
      "식품명\n",
      "커피_카페모카 아이스(ICED)    17\n",
      "커피_카페라떼 아이스(ICED)    16\n",
      "커피_카페모카 핫(HOT)       16\n",
      "커피_카페라떼 핫(HOT)       16\n",
      "커피_아메리카노 핫(HOT)      15\n",
      "                     ..\n",
      "피자_치즈피자 (M)           1\n",
      "피자_치즈피자 (XL)          1\n",
      "피자_치즈피자(XL)           1\n",
      "피자_치즈피자리치골드(L)        1\n",
      "카레소스                  1\n",
      "Name: count, Length: 10770, dtype: int64\n",
      "\n",
      "--- 식품기원명 열의 값 등장 횟수 ---\n",
      "식품기원명\n",
      "외식(프랜차이즈 등 업체 제공 영양정    10499\n",
      "외식(분석함량)                  648\n",
      "가정식(분석 함량)                482\n",
      "외식(재료량 기반 산출함량)           191\n",
      "초등학교급식(재료량 기반 산출 함량)      144\n",
      "중고등학교급식(재료량 기반 산출함량)      141\n",
      "산업체급식(재료량 기반 산출 함량)       137\n",
      "Name: count, dtype: int64\n",
      "\n",
      "--- 식품대분류명 열의 값 등장 횟수 ---\n",
      "식품대분류명\n",
      "빵 및 과자류         6155\n",
      "음료 및 차류         3804\n",
      "유제품류 및 빙과류       427\n",
      "튀김류              229\n",
      "볶음류              211\n",
      "생채·무침류           182\n",
      "밥류               177\n",
      "국 및 탕류           177\n",
      "면 및 만두류          165\n",
      "찌개 및 전골류         150\n",
      "구이류              128\n",
      "찜류                90\n",
      "전·적 및 부침류         77\n",
      "조림류               76\n",
      "나물·숙채류            73\n",
      "죽 및 스프류           44\n",
      "김치류               32\n",
      "장아찌·절임류           18\n",
      "젓갈류                9\n",
      "수·조·어·육류           6\n",
      "장류, 양념류            6\n",
      "곡류, 서류 제품          3\n",
      "두류, 견과 및 종실류       2\n",
      "과일류                1\n",
      "Name: count, dtype: int64\n",
      "\n",
      "--- 대표식품명 열의 값 등장 횟수 ---\n",
      "대표식품명\n",
      "피자       3223\n",
      "커피       1186\n",
      "스무디       769\n",
      "케이크       501\n",
      "라떼        357\n",
      "         ... \n",
      "연어롤         1\n",
      "쌀밥          1\n",
      "새우튀김롤       1\n",
      "묵밥          1\n",
      "짜장소스        1\n",
      "Name: count, Length: 752, dtype: int64\n",
      "\n",
      "--- 영양성분함량기준량 열의 값 등장 횟수 ---\n",
      "영양성분함량기준량\n",
      "100g     7821\n",
      "100ml    4421\n",
      "Name: count, dtype: int64\n",
      "\n",
      "--- 식품중량 열의 값 등장 횟수 ---\n",
      "식품중량\n",
      "100g     1071\n",
      "591g      516\n",
      "473g      426\n",
      "360g      341\n",
      "355g      271\n",
      "         ... \n",
      "1325g       1\n",
      "568g        1\n",
      "769.5       1\n",
      "810.5       1\n",
      "482g        1\n",
      "Name: count, Length: 1711, dtype: int64\n",
      "\n"
     ]
    }
   ],
   "source": [
    "# 각 열을 반복하면서 값의 등장 횟수를 출력\n",
    "for column in df.columns:\n",
    "    if column not in exclude_columns:\n",
    "        print(f\"--- {column} 열의 값 등장 횟수 ---\")\n",
    "        value_counts = df[column].value_counts()\n",
    "        print(value_counts)\n",
    "        print()"
   ]
  },
  {
   "cell_type": "code",
   "execution_count": 13,
   "metadata": {
    "colab": {
     "base_uri": "https://localhost:8080/"
    },
    "id": "EWvkg9pRGY0A",
    "outputId": "18ceedb8-1f62-4ced-9797-a030130411d9"
   },
   "outputs": [
    {
     "name": "stdout",
     "output_type": "stream",
     "text": [
      "--- 식품명 열의 값 등장 횟수 ---\n",
      "식품명\n",
      "커피_카페모카 아이스(ICED)    17\n",
      "커피_카페라떼 아이스(ICED)    16\n",
      "커피_카페모카 핫(HOT)       16\n",
      "커피_카페라떼 핫(HOT)       16\n",
      "커피_아메리카노 핫(HOT)      15\n",
      "                     ..\n",
      "피자_치즈피자 (M)           1\n",
      "피자_치즈피자 (XL)          1\n",
      "피자_치즈피자(XL)           1\n",
      "피자_치즈피자리치골드(L)        1\n",
      "카레소스                  1\n",
      "Name: count, Length: 10770, dtype: int64\n",
      "\n",
      "--- 식품기원명 열의 값 등장 횟수 ---\n",
      "식품기원명\n",
      "외식(프랜차이즈 등 업체 제공 영양정    10499\n",
      "외식(분석함량)                  648\n",
      "가정식(분석 함량)                482\n",
      "외식(재료량 기반 산출함량)           191\n",
      "초등학교급식(재료량 기반 산출 함량)      144\n",
      "중고등학교급식(재료량 기반 산출함량)      141\n",
      "산업체급식(재료량 기반 산출 함량)       137\n",
      "Name: count, dtype: int64\n",
      "\n",
      "--- 식품대분류명 열의 값 등장 횟수 ---\n",
      "식품대분류명\n",
      "빵 및 과자류         6155\n",
      "음료 및 차류         3804\n",
      "유제품류 및 빙과류       427\n",
      "튀김류              229\n",
      "볶음류              211\n",
      "생채·무침류           182\n",
      "밥류               177\n",
      "국 및 탕류           177\n",
      "면 및 만두류          165\n",
      "찌개 및 전골류         150\n",
      "구이류              128\n",
      "찜류                90\n",
      "전·적 및 부침류         77\n",
      "조림류               76\n",
      "나물·숙채류            73\n",
      "죽 및 스프류           44\n",
      "김치류               32\n",
      "장아찌·절임류           18\n",
      "젓갈류                9\n",
      "수·조·어·육류           6\n",
      "장류, 양념류            6\n",
      "곡류, 서류 제품          3\n",
      "두류, 견과 및 종실류       2\n",
      "과일류                1\n",
      "Name: count, dtype: int64\n",
      "\n",
      "--- 대표식품명 열의 값 등장 횟수 ---\n",
      "대표식품명\n",
      "피자       3223\n",
      "커피       1186\n",
      "스무디       769\n",
      "케이크       501\n",
      "라떼        357\n",
      "         ... \n",
      "연어롤         1\n",
      "쌀밥          1\n",
      "새우튀김롤       1\n",
      "묵밥          1\n",
      "짜장소스        1\n",
      "Name: count, Length: 752, dtype: int64\n",
      "\n",
      "--- 영양성분함량기준량 열의 값 등장 횟수 ---\n",
      "영양성분함량기준량\n",
      "100g     7821\n",
      "100ml    4421\n",
      "Name: count, dtype: int64\n",
      "\n",
      "--- 식품중량 열의 값 등장 횟수 ---\n",
      "식품중량\n",
      "100g     1071\n",
      "591g      516\n",
      "473g      426\n",
      "360g      341\n",
      "355g      271\n",
      "         ... \n",
      "1325g       1\n",
      "568g        1\n",
      "769.5       1\n",
      "810.5       1\n",
      "482g        1\n",
      "Name: count, Length: 1711, dtype: int64\n",
      "\n"
     ]
    }
   ],
   "source": [
    "exclude_columns = ['식품코드', '데이터구분코드', '데이터구분명', '식품기원코드', '식품대분류코드', '대표식품코드', '식품중분류코드', '식품중분류명', '식품소분류코드', '식품소분류명', '식품세분류코드', '식품세분류명', '에너지(kcal)', '수분(g)', '단백질(g)', '지방(g)', '회분(g)', '탄수화물(g)', '당류(g)', '식이섬유(g)', '칼슘(mg)', '철(mg)', '인(mg)', '칼륨(mg)', '나트륨(mg)', '비타민 A(μg RAE)', '레티놀(μg)', '베타카로틴(μg)', '티아민(mg)', '리보플라빈(mg)', '니아신(mg)', '비타민 C(mg)', '비타민 D(μg)', '콜레스테롤(mg)', '포화지방산(g)', '트랜스지방산(g)', '출처코드', '출처명', '업체명', '데이터생성방법코드', '데이터생성방법명', '데이터생성일자', '제공기간코드', '제공기관명', '데이터기준일자', '제공기관코드']\n",
    "\n",
    "for column in df.columns:\n",
    "    if column not in exclude_columns:\n",
    "        print(f\"--- {column} 열의 값 등장 횟수 ---\")\n",
    "        value_counts = df[column].value_counts()\n",
    "        print(value_counts)\n",
    "        print()"
   ]
  },
  {
   "cell_type": "code",
   "execution_count": 14,
   "metadata": {
    "colab": {
     "base_uri": "https://localhost:8080/"
    },
    "id": "xdcrmQSLIiDr",
    "outputId": "cbc029fe-9443-4cc5-ae8b-d6d607131f27"
   },
   "outputs": [
    {
     "name": "stdout",
     "output_type": "stream",
     "text": [
      "             식품명   대표식품명\n",
      "0            꽃게탕     꽃게탕\n",
      "1           낙지전골    낙지전골\n",
      "2            동태국     동태국\n",
      "3           동태찌개    동태찌개\n",
      "4         돼지고기찌개  돼지고기찌개\n",
      "...          ...     ...\n",
      "12237      청포묵무침   청포묵무침\n",
      "12238     치커리겉절이  치커리겉절이\n",
      "12239  파래무침_파래_무    파래무침\n",
      "12240       짜장소스    짜장소스\n",
      "12241       카레소스    카레소스\n",
      "\n",
      "[12242 rows x 2 columns]\n"
     ]
    }
   ],
   "source": [
    "name_df = df[['식품명', '대표식품명']]\n",
    "print(name_df)"
   ]
  },
  {
   "cell_type": "code",
   "execution_count": 15,
   "metadata": {
    "colab": {
     "base_uri": "https://localhost:8080/"
    },
    "id": "zw1JZAXVQjpP",
    "outputId": "8719cb33-3412-42c3-d1a2-5840fd3c04f7"
   },
   "outputs": [
    {
     "name": "stdout",
     "output_type": "stream",
     "text": [
      "               식품명   대표식품명\n",
      "6          된장찌개_냉이    된장찌개\n",
      "7          된장찌개_달래    된장찌개\n",
      "8          된장찌개_두부    된장찌개\n",
      "9         된장찌개_바지락    된장찌개\n",
      "10        두부찌개_고추장    두부찌개\n",
      "...            ...     ...\n",
      "12232   오이생채_오이_부추    오이생채\n",
      "12234     오징어무침_채소   오징어무침\n",
      "12235    오징어채무침_채소  오징어채무침\n",
      "12236  참나물겉절이_고춧가루  참나물겉절이\n",
      "12239    파래무침_파래_무    파래무침\n",
      "\n",
      "[11457 rows x 2 columns]\n"
     ]
    }
   ],
   "source": [
    "different_rows = name_df[name_df['식품명'] != name_df['대표식품명']]\n",
    "print(different_rows)"
   ]
  },
  {
   "cell_type": "code",
   "execution_count": 16,
   "metadata": {
    "colab": {
     "base_uri": "https://localhost:8080/"
    },
    "id": "W78itvuxRTHR",
    "outputId": "bac98cc7-a417-44ca-e645-59bea761fb66"
   },
   "outputs": [
    {
     "data": {
      "text/plain": [
       "대표식품명\n",
       "피자        3223\n",
       "커피        1186\n",
       "스무디        769\n",
       "케이크        501\n",
       "라떼         357\n",
       "          ... \n",
       "나베           1\n",
       "꽃게탕          1\n",
       "홍합탕          1\n",
       "조개국          1\n",
       "참나물겉절이       1\n",
       "Name: count, Length: 378, dtype: int64"
      ]
     },
     "execution_count": 16,
     "metadata": {},
     "output_type": "execute_result"
    }
   ],
   "source": [
    "different_rows['대표식품명'].value_counts()"
   ]
  },
  {
   "cell_type": "code",
   "execution_count": 17,
   "metadata": {
    "colab": {
     "base_uri": "https://localhost:8080/"
    },
    "id": "zfCEE6ztR93u",
    "outputId": "4710cef8-f268-446e-af68-b3a73affe581"
   },
   "outputs": [
    {
     "ename": "NameError",
     "evalue": "name 'filtered_rows' is not defined",
     "output_type": "error",
     "traceback": [
      "\u001b[0;31m---------------------------------------------------------------------------\u001b[0m",
      "\u001b[0;31mNameError\u001b[0m                                 Traceback (most recent call last)",
      "Cell \u001b[0;32mIn[17], line 7\u001b[0m\n\u001b[1;32m      1\u001b[0m \u001b[38;5;66;03m#filtered_rows = df[df['식품대분류명'] == '빵 및 과자류'][['식품코드', '식품명', '대표식품명', '업체명']]\u001b[39;00m\n\u001b[1;32m      2\u001b[0m \u001b[38;5;66;03m#filtered_rows = df[df['식품대분류명'] == '수·조·어·육류'][['식품코드', '식품명', '대표식품명', '업체명']]\u001b[39;00m\n\u001b[1;32m      3\u001b[0m \u001b[38;5;66;03m#filtered_rows = df[df['식품대분류명'] == '장류, 양념류'][['식품코드', '식품명', '대표식품명', '업체명']]\u001b[39;00m\n\u001b[1;32m      4\u001b[0m \u001b[38;5;66;03m#filtered_rows = df[df['식품대분류명'] == '곡류, 서류 제품'][['식품코드', '식품명', '대표식품명', '업체명']]\u001b[39;00m\n\u001b[1;32m      5\u001b[0m \u001b[38;5;66;03m#filtered_rows = df[df['식품대분류명'] == '두류, 견과 및 종실류'][['식품코드', '식품명', '대표식품명', '업체명']]\u001b[39;00m\n\u001b[0;32m----> 7\u001b[0m \u001b[38;5;28mprint\u001b[39m(filtered_rows)\n",
      "\u001b[0;31mNameError\u001b[0m: name 'filtered_rows' is not defined"
     ]
    }
   ],
   "source": [
    "#filtered_rows = df[df['식품대분류명'] == '빵 및 과자류'][['식품코드', '식품명', '대표식품명', '업체명']]\n",
    "#filtered_rows = df[df['식품대분류명'] == '수·조·어·육류'][['식품코드', '식품명', '대표식품명', '업체명']]\n",
    "#filtered_rows = df[df['식품대분류명'] == '장류, 양념류'][['식품코드', '식품명', '대표식품명', '업체명']]\n",
    "#filtered_rows = df[df['식품대분류명'] == '곡류, 서류 제품'][['식품코드', '식품명', '대표식품명', '업체명']]\n",
    "#filtered_rows = df[df['식품대분류명'] == '두류, 견과 및 종실류'][['식품코드', '식품명', '대표식품명', '업체명']]\n",
    "\n",
    "print(filtered_rows)"
   ]
  },
  {
   "cell_type": "code",
   "execution_count": 18,
   "metadata": {
    "colab": {
     "base_uri": "https://localhost:8080/"
    },
    "id": "rHr8L8lHSvP8",
    "outputId": "6ee6f8cc-cd2a-485b-a754-f4ada1383679"
   },
   "outputs": [
    {
     "name": "stdout",
     "output_type": "stream",
     "text": [
      "          식품명 대표식품명\n",
      "7431   도넛_링도넛    도넛\n",
      "7432    도넛_찹쌀    도넛\n",
      "11072   도넛_찹쌀    도넛\n"
     ]
    }
   ],
   "source": [
    "filtered_rows = df[(df['업체명'] == '해당없음') & (df['대표식품명'] == '도넛')][['식품명', '대표식품명']]\n",
    "print(filtered_rows)"
   ]
  },
  {
   "cell_type": "markdown",
   "metadata": {
    "id": "aq3qITH5Uwcx"
   },
   "source": [
    "# 새롭게 전처리하여 만든 데이터프레임"
   ]
  },
  {
   "cell_type": "code",
   "execution_count": 19,
   "metadata": {
    "id": "Dlblc51kXA0i"
   },
   "outputs": [],
   "source": [
    "nutrient = ['에너지(kcal)', '수분(g)', '단백질(g)', '지방(g)', '회분(g)', '탄수화물(g)', '당류(g)', '식이섬유(g)', '칼슘(mg)', '철(mg)', '인(mg)', '칼륨(mg)', '나트륨(mg)', '비타민 A(μg RAE)', '레티놀(μg)', '베타카로틴(μg)', '티아민(mg)', '리보플라빈(mg)', '니아신(mg)', '비타민 C(mg)', '비타민 D(μg)', '콜레스테롤(mg)', '포화지방산(g)', '트랜스지방산(g)']\n",
    "code_exclude = ['D324-128012800-0001', 'D318-707000000-0001', 'D327-758011000-0001', 'D327-758015600-0001']\n"
   ]
  },
  {
   "cell_type": "code",
   "execution_count": 20,
   "metadata": {
    "colab": {
     "base_uri": "https://localhost:8080/",
     "height": 469
    },
    "id": "uhR7rVxLTcK7",
    "outputId": "ba85e624-b86a-4178-998e-b0bd209d44f3"
   },
   "outputs": [
    {
     "name": "stdout",
     "output_type": "stream",
     "text": [
      "                      식품코드        식품명   대표식품명    식품대분류명\n",
      "0      D106-268000000-0001        꽃게탕     꽃게탕  찌개 및 전골류\n",
      "1      D106-270000000-0001       낙지전골    낙지전골  찌개 및 전골류\n",
      "2      D106-272000000-0001        동태국     동태국  찌개 및 전골류\n",
      "3      D106-273000000-0001       동태찌개    동태찌개  찌개 및 전골류\n",
      "4      D106-274000000-0001     돼지고기찌개  돼지고기찌개  찌개 및 전골류\n",
      "...                    ...        ...     ...       ...\n",
      "12237  D714-650000000-0001      청포묵무침   청포묵무침    생채·무침류\n",
      "12238  D714-651000000-0001     치커리겉절이  치커리겉절이    생채·무침류\n",
      "12239  D714-655362100-0001  파래무침_파래_무    파래무침    생채·무침류\n",
      "12240  D718-706000000-0001       짜장소스    짜장소스   장류, 양념류\n",
      "12241  D718-707000000-0001       카레소스    카레소스   장류, 양념류\n",
      "\n",
      "[1613 rows x 4 columns]\n"
     ]
    }
   ],
   "source": [
    "new_df = df[(df['업체명'] == '해당없음') & (~df['식품코드'].isin(code_exclude))][['식품코드', '식품명', '대표식품명', '식품대분류명']]\n",
    "\n",
    "print(new_df)"
   ]
  },
  {
   "cell_type": "code",
   "execution_count": 21,
   "metadata": {
    "colab": {
     "base_uri": "https://localhost:8080/"
    },
    "id": "MceIL1FtoPI4",
    "outputId": "e4c292da-be0a-47f6-e66c-16a9ebd91318"
   },
   "outputs": [
    {
     "name": "stdout",
     "output_type": "stream",
     "text": [
      "Empty DataFrame\n",
      "Columns: [식품코드, 식품명, 대표식품명, 식품대분류명]\n",
      "Index: []\n"
     ]
    }
   ],
   "source": [
    "find_row = new_df[new_df['식품명'] == '깐']\n",
    "print(find_row)"
   ]
  },
  {
   "cell_type": "code",
   "execution_count": 22,
   "metadata": {
    "colab": {
     "base_uri": "https://localhost:8080/"
    },
    "id": "ElSPruD1qe7Z",
    "outputId": "286c3e0f-306c-428a-a55c-1e42a5ad7a89"
   },
   "outputs": [
    {
     "name": "stdout",
     "output_type": "stream",
     "text": [
      "Empty DataFrame\n",
      "Columns: [식품코드, 식품명, 데이터구분코드, 데이터구분명, 식품기원코드, 식품기원명, 식품대분류코드, 식품대분류명, 대표식품코드, 대표식품명, 식품중분류코드, 식품중분류명, 식품소분류코드, 식품소분류명, 식품세분류코드, 식품세분류명, 영양성분함량기준량, 에너지(kcal), 수분(g), 단백질(g), 지방(g), 회분(g), 탄수화물(g), 당류(g), 식이섬유(g), 칼슘(mg), 철(mg), 인(mg), 칼륨(mg), 나트륨(mg), 비타민 A(μg RAE), 레티놀(μg), 베타카로틴(μg), 티아민(mg), 리보플라빈(mg), 니아신(mg), 비타민 C(mg), 비타민 D(μg), 콜레스테롤(mg), 포화지방산(g), 트랜스지방산(g), 출처코드, 출처명, 식품중량, 업체명, 데이터생성방법코드, 데이터생성방법명, 데이터생성일자, 데이터기준일자, 제공기관코드, 제공기관명]\n",
      "Index: []\n",
      "\n",
      "[0 rows x 51 columns]\n"
     ]
    }
   ],
   "source": [
    "find_row = df[df['식품명'] == '궁중떡볶이']\n",
    "print(find_row)"
   ]
  },
  {
   "cell_type": "code",
   "execution_count": 24,
   "metadata": {
    "colab": {
     "base_uri": "https://localhost:8080/"
    },
    "id": "mrlf9TmIX_R3",
    "outputId": "37cb27a9-2cb2-4a63-84b0-0490c99f4ac3"
   },
   "outputs": [
    {
     "name": "stdout",
     "output_type": "stream",
     "text": [
      "--- 식품명 열의 값 등장 횟수 ---\n",
      "식품명\n",
      "자장면        6\n",
      "연근조림       6\n",
      "된장국_시래기    5\n",
      "닭곰탕        5\n",
      "달걀국        5\n",
      "          ..\n",
      "국밥_돼지고기    1\n",
      "국밥_소고기     1\n",
      "귀리밥        1\n",
      "김밥_샐러드     1\n",
      "카레소스       1\n",
      "Name: count, Length: 1148, dtype: int64\n",
      "\n",
      "--- 대표식품명 열의 값 등장 횟수 ---\n",
      "대표식품명\n",
      "된장국       43\n",
      "볶음밥       20\n",
      "돼지고기볶음    19\n",
      "매운탕       16\n",
      "라면        16\n",
      "          ..\n",
      "올갱이국수      1\n",
      "쌀국수        1\n",
      "새우구이       1\n",
      "분짜         1\n",
      "카레소스       1\n",
      "Name: count, Length: 664, dtype: int64\n",
      "\n",
      "--- 식품대분류명 열의 값 등장 횟수 ---\n",
      "식품대분류명\n",
      "볶음류           185\n",
      "국 및 탕류        174\n",
      "밥류            162\n",
      "생채·무침류        154\n",
      "면 및 만두류       126\n",
      "찌개 및 전골류      112\n",
      "빵 및 과자류       109\n",
      "구이류           107\n",
      "찜류             83\n",
      "전·적 및 부침류      76\n",
      "조림류            74\n",
      "나물·숙채류         73\n",
      "튀김류            46\n",
      "죽 및 스프류        38\n",
      "김치류            32\n",
      "음료 및 차류        23\n",
      "장아찌·절임류        18\n",
      "젓갈류             9\n",
      "유제품류 및 빙과류      5\n",
      "수·조·어·육류        3\n",
      "곡류, 서류 제품       2\n",
      "장류, 양념류         2\n",
      "Name: count, dtype: int64\n",
      "\n"
     ]
    }
   ],
   "source": [
    "for column in new_df.columns:\n",
    "    if column not in exclude_columns:\n",
    "        print(f\"--- {column} 열의 값 등장 횟수 ---\")\n",
    "        value_counts = new_df[column].value_counts()\n",
    "        print(value_counts)\n",
    "        print()"
   ]
  },
  {
   "cell_type": "code",
   "execution_count": 25,
   "metadata": {
    "colab": {
     "base_uri": "https://localhost:8080/"
    },
    "id": "HetRzCpkdAG1",
    "outputId": "29e193b1-1d4e-41d5-c241-6aff95984b3c"
   },
   "outputs": [
    {
     "name": "stdout",
     "output_type": "stream",
     "text": [
      "                      식품코드                     식품명  대표식품명   식품대분류명\n",
      "313    D120-730000000-0001                    미숫가루   미숫가루  음료 및 차류\n",
      "11600  D320-716030000-0001                과ㆍ채주스_당근  과ㆍ채주스  음료 및 차류\n",
      "11601  D320-716042200-0001            과ㆍ채주스_딸기_바나나  과ㆍ채주스  음료 및 차류\n",
      "11602  D320-716071300-0001             과ㆍ채주스_사과_당근  과ㆍ채주스  음료 및 차류\n",
      "11603  D320-716174100-0001          과ㆍ채주스_해독주스_착즙형  과ㆍ채주스  음료 및 차류\n",
      "11604  D320-716180000-0001            과ㆍ채주스_혼합과일주스  과ㆍ채주스  음료 및 차류\n",
      "11605  D320-723010000-0001                  라떼_그린티     라떼  음료 및 차류\n",
      "11606  D320-723050000-0001                  라떼_바닐라     라떼  음료 및 차류\n",
      "11607  D320-725000000-0001                    레몬청차   레몬청차  음료 및 차류\n",
      "11608  D320-731060000-0001                  밀크티_블랙    밀크티  음료 및 차류\n",
      "11609  D320-731090000-0001                 밀크티_초콜릿    밀크티  음료 및 차류\n",
      "11610  D320-731160000-0001                  밀크티_타로    밀크티  음료 및 차류\n",
      "11611  D320-731190000-0001                  밀크티_흑당    밀크티  음료 및 차류\n",
      "11612  D320-738000000-0001                      식혜     식혜  음료 및 차류\n",
      "11613  D320-741142904-0001  액상커피_커피가루_설탕_크림(중량12g)   액상커피  음료 및 차류\n",
      "11614  D320-741143000-0001    액상커피_커피가루_설탕(중량2.7g)   액상커피  음료 및 차류\n",
      "11615  D320-741150000-0001         액상커피_커피가루(중량1g)   액상커피  음료 및 차류\n",
      "11616  D320-748020000-0001                커피_달고나커피     커피  음료 및 차류\n",
      "11617  D320-748080000-0001                커피_아메리카노     커피  음료 및 차류\n",
      "11618  D320-748100000-0001              커피_카라멜마끼아토     커피  음료 및 차류\n",
      "11619  D320-748110000-0001                 커피_카페라떼     커피  음료 및 차류\n",
      "11620  D320-748120000-0001                 커피_카페모카     커피  음료 및 차류\n",
      "11621  D320-748130000-0001                 커피_카푸치노     커피  음료 및 차류\n"
     ]
    }
   ],
   "source": [
    "filtered_rows = new_df[new_df['식품대분류명'] == '음료 및 차류']\n",
    "#filtered_rows = new_df[new_df['대표식품명'] == '고구마']\n",
    "print(filtered_rows)\n"
   ]
  },
  {
   "cell_type": "code",
   "execution_count": 26,
   "metadata": {
    "colab": {
     "base_uri": "https://localhost:8080/"
    },
    "id": "lHfm3E1ojzH3",
    "outputId": "8f5559a5-7a20-4eb3-ab3c-1c3f972a563f"
   },
   "outputs": [
    {
     "name": "stdout",
     "output_type": "stream",
     "text": [
      "                      식품코드        식품명   대표식품명    식품대분류명  등장 횟수\n",
      "0      D106-268000000-0001        꽃게탕     꽃게탕  찌개 및 전골류      3\n",
      "1      D106-270000000-0001       낙지전골    낙지전골  찌개 및 전골류      2\n",
      "3      D106-273000000-0001       동태찌개    동태찌개  찌개 및 전골류      2\n",
      "4      D106-274000000-0001     돼지고기찌개  돼지고기찌개  찌개 및 전골류      2\n",
      "5      D106-275000000-0001       된장찌개    된장찌개  찌개 및 전골류      6\n",
      "...                    ...        ...     ...       ...    ...\n",
      "12233  D714-646000000-0001      오이지무침   오이지무침    생채·무침류      3\n",
      "12234  D714-647320000-0001   오징어무침_채소   오징어무침    생채·무침류      4\n",
      "12235  D714-648320000-0001  오징어채무침_채소  오징어채무침    생채·무침류      2\n",
      "12237  D714-650000000-0001      청포묵무침   청포묵무침    생채·무침류      3\n",
      "12239  D714-655362100-0001  파래무침_파래_무    파래무침    생채·무침류      4\n",
      "\n",
      "[1240 rows x 5 columns]\n"
     ]
    },
    {
     "name": "stderr",
     "output_type": "stream",
     "text": [
      "/var/folders/19/wct62b5n2w158frsffz9s_zr0000gn/T/ipykernel_15950/2118852164.py:5: SettingWithCopyWarning: \n",
      "A value is trying to be set on a copy of a slice from a DataFrame.\n",
      "Try using .loc[row_indexer,col_indexer] = value instead\n",
      "\n",
      "See the caveats in the documentation: https://pandas.pydata.org/pandas-docs/stable/user_guide/indexing.html#returning-a-view-versus-a-copy\n",
      "  rows_with_multiple_occurrences['등장 횟수'] = rows_with_multiple_occurrences['대표식품명'].map(new_df['대표식품명'].value_counts())\n"
     ]
    }
   ],
   "source": [
    "# 대표식품명 열의 값 등장 횟수가 1 이상인 행을 선택하여 출력하는 코드\n",
    "rows_with_multiple_occurrences = new_df[new_df['대표식품명'].map(new_df['대표식품명'].value_counts()) > 1]\n",
    "\n",
    "# 등장 횟수 컬럼 추가\n",
    "rows_with_multiple_occurrences['등장 횟수'] = rows_with_multiple_occurrences['대표식품명'].map(new_df['대표식품명'].value_counts())\n",
    "\n",
    "# 결과 출력\n",
    "print(rows_with_multiple_occurrences)\n"
   ]
  },
  {
   "cell_type": "markdown",
   "metadata": {
    "id": "YhFOtn32u612"
   },
   "source": [
    "# 통합 식품영양성분DB"
   ]
  },
  {
   "cell_type": "code",
   "execution_count": 29,
   "metadata": {
    "colab": {
     "base_uri": "https://localhost:8080/"
    },
    "id": "hgWBqdm0mVra",
    "outputId": "0c3a36f2-1cbe-40f8-a8ca-6fd09442a2d7"
   },
   "outputs": [
    {
     "name": "stderr",
     "output_type": "stream",
     "text": [
      "/Users/hye_on/anaconda3/lib/python3.11/site-packages/openpyxl/styles/stylesheet.py:226: UserWarning: Workbook contains no default style, apply openpyxl's default\n",
      "  warn(\"Workbook contains no default style, apply openpyxl's default\")\n"
     ]
    }
   ],
   "source": [
    "file_path = '../1_raw_download/식품영양성분DB_음식_20240215.xlsx'\n",
    "df2 = pd.read_excel(file_path)"
   ]
  },
  {
   "cell_type": "code",
   "execution_count": 30,
   "metadata": {
    "colab": {
     "base_uri": "https://localhost:8080/"
    },
    "id": "hGbZ_iKfxSL-",
    "outputId": "e35ad1c4-2d4e-44a1-ae9e-4fa91e6defe7"
   },
   "outputs": [
    {
     "name": "stdout",
     "output_type": "stream",
     "text": [
      "           SAMPLE_ID     식품코드               식품명     식품대분류    식품상세분류\n",
      "0     D000006-94-AVG  D000006              꿩불고기       구이류      육류구이\n",
      "1     D000007-ZZ-AVG  D000007               닭갈비       구이류      육류구이\n",
      "3     D000009-ZZ-AVG  D000009               닭꼬치       구이류      육류구이\n",
      "4     D000010-ZZ-AVG  D000010              더덕구이       구이류     채소류구이\n",
      "5     D000012-95-AVG  D000012              돼지갈비       구이류      육류구이\n",
      "...              ...      ...               ...       ...       ...\n",
      "7677  D018918-ZZ-AVG  D018918  <아내의 식탁>스노윙찹스테이크       구이류      육류구이\n",
      "7678  D018919-ZZ-AVG  D018919     <아내의 식탁>짜.수.치       볶음류      떡볶이류\n",
      "7679  D018920-ZZ-AVG  D018920  <아내의 식탁>바질베스토감바스       볶음류     어패류볶음\n",
      "7680  D018921-ZZ-AVG  D018921   <아내의 식탁>밀푀유스키야키  찌개 및 전골류  채소류찌개.전골\n",
      "7681  D018922-ZZ-AVG  D018922    <파빌리온>양갈비 스테이크       구이류      육류구이\n",
      "\n",
      "[7146 rows x 5 columns]\n"
     ]
    }
   ],
   "source": [
    "#df2 = df2[df2['상용제품'] == '품목대표'][['NO', 'SAMPLE_ID', '식품코드', '식품명', '식품대분류', '식품상세분류']]\n",
    "df2 = df2[['SAMPLE_ID', '식품코드', '식품명', '식품대분류', '식품상세분류']]\n",
    "\n",
    "# 중복된 행을 하나만 남기고 삭제하는 코드\n",
    "df2.drop_duplicates(subset='식품명', keep='first', inplace=True)\n",
    "\n",
    "print(df2)"
   ]
  },
  {
   "cell_type": "code",
   "execution_count": 31,
   "metadata": {
    "colab": {
     "base_uri": "https://localhost:8080/"
    },
    "id": "Pv6p-_LI43GX",
    "outputId": "000ac284-fea5-4b1a-e010-739e1dd6248b"
   },
   "outputs": [
    {
     "name": "stdout",
     "output_type": "stream",
     "text": [
      "--- SAMPLE_ID 열의 값 등장 횟수 ---\n",
      "SAMPLE_ID\n",
      "D000006-94-AVG    1\n",
      "D015436-ZZ-AVG    1\n",
      "D015447-ZZ-AVG    1\n",
      "D015446-ZZ-AVG    1\n",
      "D015445-ZZ-AVG    1\n",
      "                 ..\n",
      "D012243-ZZ-AVG    1\n",
      "D012242-ZZ-AVG    1\n",
      "D012240-ZZ-AVG    1\n",
      "D012239-ZZ-AVG    1\n",
      "D018922-ZZ-AVG    1\n",
      "Name: count, Length: 7146, dtype: int64\n",
      "\n",
      "--- 식품명 열의 값 등장 횟수 ---\n",
      "식품명\n",
      "꿩불고기                       1\n",
      "BT21 세븐컬러스케이크 (7colors)    1\n",
      "블루밍러브케이크                   1\n",
      "티라미수 오리지날레                 1\n",
      "블루베리요거트 듬뿍                 1\n",
      "                          ..\n",
      "카라멜 라떼 마끼아또R               1\n",
      "헤이즐넛 카푸치노                  1\n",
      "카페라떼L                      1\n",
      "카페라떼R                      1\n",
      "<파빌리온>양갈비 스테이크             1\n",
      "Name: count, Length: 7146, dtype: int64\n",
      "\n",
      "--- 식품대분류 열의 값 등장 횟수 ---\n",
      "식품대분류\n",
      "빵류           3011\n",
      "음료 및 차류      2195\n",
      "아이스크림류        315\n",
      "튀김류           306\n",
      "과자류           204\n",
      "생채및 무침류       146\n",
      "볶음류           127\n",
      "면 및 만두류       119\n",
      "국 및 탕류        114\n",
      "밥류            109\n",
      "기타             83\n",
      "찌개 및 전골류       80\n",
      "구이류            71\n",
      "전.적 및 부침류      48\n",
      "찜류             41\n",
      "조림류            40\n",
      "곡류 및 서류        29\n",
      "김치류            26\n",
      "죽 및 스프류        25\n",
      "숙채류            23\n",
      "장아찌 및 절임류      23\n",
      "젓갈류             7\n",
      "회류              3\n",
      "포류              1\n",
      "Name: count, dtype: int64\n",
      "\n",
      "--- 식품상세분류 열의 값 등장 횟수 ---\n",
      "식품상세분류\n",
      "피자류        1425\n",
      "커피류         701\n",
      "케이크류        514\n",
      "차류          505\n",
      "스무디류        446\n",
      "           ... \n",
      "곡류 및 서류       3\n",
      "부침류           2\n",
      "탕류            2\n",
      "포류            1\n",
      "기타 구이류        1\n",
      "Name: count, Length: 90, dtype: int64\n",
      "\n"
     ]
    }
   ],
   "source": [
    "for column in df2.columns:\n",
    "    if column not in exclude_columns:\n",
    "        print(f\"--- {column} 열의 값 등장 횟수 ---\")\n",
    "        value_counts = df2[column].value_counts()\n",
    "        print(value_counts)\n",
    "        print()"
   ]
  },
  {
   "cell_type": "code",
   "execution_count": 34,
   "metadata": {
    "colab": {
     "base_uri": "https://localhost:8080/"
    },
    "id": "04vXN5A-ya1l",
    "outputId": "09a9ec7b-150e-4741-c463-7daaf94c4b64"
   },
   "outputs": [
    {
     "name": "stdout",
     "output_type": "stream",
     "text": [
      "Empty DataFrame\n",
      "Columns: [SAMPLE_ID, 식품코드, 식품명, 식품대분류, 식품상세분류]\n",
      "Index: []\n"
     ]
    }
   ],
   "source": [
    "filter_df = df2[df2['식품명'] == '닭도리탕']\n",
    "print(filter_df)\n"
   ]
  },
  {
   "cell_type": "code",
   "execution_count": 32,
   "metadata": {
    "id": "6WDJgpVX6m14"
   },
   "outputs": [],
   "source": [
    "df2.to_csv('cook_basic.csv', index=True)"
   ]
  },
  {
   "cell_type": "code",
   "execution_count": 33,
   "metadata": {
    "id": "0Anf_t2Gu9K0"
   },
   "outputs": [],
   "source": [
    "#pd.set_option('display.max_rows', None)\n",
    "pd.reset_option('display.max_rows')\n"
   ]
  },
  {
   "cell_type": "code",
   "execution_count": null,
   "metadata": {},
   "outputs": [],
   "source": [
    "df3 = "
   ]
  },
  {
   "cell_type": "code",
   "execution_count": null,
   "metadata": {
    "id": "Gaqby1TUvzov"
   },
   "outputs": [],
   "source": [
    "# CSV 파일로 저장\n",
    "df3.to_csv('../3_데이터전처리/cook_basic_808.csv', index=False)"
   ]
  }
 ],
 "metadata": {
  "colab": {
   "provenance": []
  },
  "kernelspec": {
   "display_name": "Python 3 (ipykernel)",
   "language": "python",
   "name": "python3"
  },
  "language_info": {
   "codemirror_mode": {
    "name": "ipython",
    "version": 3
   },
   "file_extension": ".py",
   "mimetype": "text/x-python",
   "name": "python",
   "nbconvert_exporter": "python",
   "pygments_lexer": "ipython3",
   "version": "3.11.5"
  }
 },
 "nbformat": 4,
 "nbformat_minor": 1
}
