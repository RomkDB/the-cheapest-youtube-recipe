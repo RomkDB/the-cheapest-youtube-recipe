{
 "cells": [
  {
   "cell_type": "code",
   "execution_count": 1,
   "id": "c4b4283c",
   "metadata": {},
   "outputs": [
    {
     "data": {
      "text/plain": [
       "'/Users/hye_on/Desktop/programmers/Project_4/음식명데이터/3_데이터전처리'"
      ]
     },
     "execution_count": 1,
     "metadata": {},
     "output_type": "execute_result"
    }
   ],
   "source": [
    "import os\n",
    "os.getcwd()"
   ]
  },
  {
   "cell_type": "code",
   "execution_count": 3,
   "id": "d963d5ce",
   "metadata": {},
   "outputs": [
    {
     "name": "stdout",
     "output_type": "stream",
     "text": [
      "   Unnamed: 0       SAMPLE_ID     식품코드   식품명 식품대분류 식품상세분류\n",
      "0           0  D000006-94-AVG  D000006  꿩불고기   구이류   육류구이\n",
      "1           1  D000007-ZZ-AVG  D000007   닭갈비   구이류   육류구이\n",
      "2           3  D000009-ZZ-AVG  D000009   닭꼬치   구이류   육류구이\n",
      "3           4  D000010-ZZ-AVG  D000010  더덕구이   구이류  채소류구이\n",
      "4           5  D000012-95-AVG  D000012  돼지갈비   구이류   육류구이\n",
      "808\n",
      "        Menu Category                          괄호\n",
      "0      LA갈비찜       한식         ['(LA galbi jjim)']\n",
      "1     LA갈비구이       한식          ['(LA galbi gui)']\n",
      "2       동치미        한식              ['((ppalgan)']\n",
      "3   6가지요리와식사       한식  ['(6 gaji yori wa siksa)']\n",
      "4  동강시스타 한식당       한식                      ['()']\n",
      "8983\n",
      "     no       title category\n",
      "0  2817      막국수 육수       기타\n",
      "1  2816      물냉면 육수       한국\n",
      "2  2815  봉골레 파스타 소스       기타\n",
      "3  2814    비빔냉면 양념장       한국\n",
      "4  2813       비빔밥소스       기타\n",
      "2365\n"
     ]
    }
   ],
   "source": [
    "import pandas as pd\n",
    "\n",
    "# CSV 파일을 읽어와 데이터프레임으로 저장하기\n",
    "csv_file_path1 = 'cook_basic_808.csv'\n",
    "csv_file_path2 = 'lampcook_8983.csv'\n",
    "csv_file_path3 = 'sauce_recipe_2365.csv'\n",
    "\n",
    "df1 = pd.read_csv(csv_file_path1)\n",
    "df2 = pd.read_csv(csv_file_path2)\n",
    "df3 = pd.read_csv(csv_file_path3)\n",
    "\n",
    "# 데이터프레임의 처음 5개 행 출력\n",
    "print(df1.head())\n",
    "print(len(df1))\n",
    "print(df2.head())\n",
    "print(len(df2))\n",
    "print(df3.head())\n",
    "print(len(df3))"
   ]
  },
  {
   "cell_type": "code",
   "execution_count": 12,
   "id": "197aacbd",
   "metadata": {},
   "outputs": [
    {
     "name": "stdout",
     "output_type": "stream",
     "text": [
      "        id  name category\n",
      "0  D000006  꿩불고기      구이류\n",
      "1  D000007   닭갈비      구이류\n",
      "2  D000009   닭꼬치      구이류\n",
      "3  D000010  더덕구이      구이류\n",
      "4  D000012  돼지갈비      구이류\n",
      "   id       name category\n",
      "0 NaN      LA갈비찜       한식\n",
      "1 NaN     LA갈비구이       한식\n",
      "2 NaN       동치미        한식\n",
      "3 NaN   6가지요리와식사       한식\n",
      "4 NaN  동강시스타 한식당       한식\n",
      "     id        name category\n",
      "0  2817      막국수 육수       기타\n",
      "1  2816      물냉면 육수       한국\n",
      "2  2815  봉골레 파스타 소스       기타\n",
      "3  2814    비빔냉면 양념장       한국\n",
      "4  2813       비빔밥소스       기타\n"
     ]
    }
   ],
   "source": [
    "import numpy as np\n",
    "\n",
    "df1_2 = pd.DataFrame()\n",
    "df2_2 = pd.DataFrame()\n",
    "df3_2 = pd.DataFrame()\n",
    "\n",
    "# df1의 각 컬럼을 새로운 DataFrame의 컬럼으로 설정\n",
    "df1_2['id'] = df1['식품코드']\n",
    "df1_2['name'] = df1['식품명']\n",
    "df1_2['category'] = df1['식품대분류']\n",
    "\n",
    "df2_2['id'] = np.nan\n",
    "df2_2['name'] = df2['Menu']\n",
    "df2_2['category'] = df2['Category']\n",
    "\n",
    "df3_2['id'] = df3['no']\n",
    "df3_2['name'] = df3['title']\n",
    "df3_2['category'] = df3['category']\n",
    "\n",
    "# 데이터프레임의 처음 5개 행 출력\n",
    "print(df1_2.head())\n",
    "print(df2_2.head())\n",
    "print(df3_2.head())"
   ]
  },
  {
   "cell_type": "code",
   "execution_count": 15,
   "id": "67d13ccd",
   "metadata": {},
   "outputs": [
    {
     "name": "stdout",
     "output_type": "stream",
     "text": [
      "            id            name category\n",
      "0      D000006            꿩불고기      구이류\n",
      "1      D000007             닭갈비      구이류\n",
      "2      D000009             닭꼬치      구이류\n",
      "3      D000010            더덕구이      구이류\n",
      "4      D000012            돼지갈비      구이류\n",
      "...        ...             ...      ...\n",
      "12151        5         흑초간장 소스       기타\n",
      "12152        4          흑후추 소스       기타\n",
      "12153        3  흰 미소 된장 두유 베샤멜       기타\n",
      "12154        2         흰 콩 드레싱       기타\n",
      "12155        1     흰색 젤리 코팅 소스       기타\n",
      "\n",
      "[12156 rows x 3 columns]\n"
     ]
    }
   ],
   "source": [
    "df1_2['id'] = df1_2['id'].astype(str)\n",
    "df2_2['id'] = df2_2['id'].astype(str)\n",
    "df3_2['id'] = df3_2['id'].astype(str)\n",
    "\n",
    "df_combine = pd.concat([df1_2, df2_2], axis=0, ignore_index=True)\n",
    "df_combine = pd.concat([df_combine, df3_2], axis=0, ignore_index=True)\n",
    "\n",
    "print(df)"
   ]
  },
  {
   "cell_type": "code",
   "execution_count": 16,
   "id": "68909920",
   "metadata": {},
   "outputs": [
    {
     "name": "stdout",
     "output_type": "stream",
     "text": [
      "name\n",
      "햄치즈샌드위치        2\n",
      "회냉면            2\n",
      "쟁반국수           2\n",
      "짜장면            2\n",
      "짬뽕             2\n",
      "              ..\n",
      "청매실참치회비빔밥      1\n",
      "참치김치덮밥         1\n",
      "찰한방영양닭죽        1\n",
      "참치야채죽          1\n",
      "흰색 젤리 코팅 소스    1\n",
      "Name: count, Length: 11671, dtype: int64\n"
     ]
    }
   ],
   "source": [
    "# 특정 열의 값의 개수 세기\n",
    "food_count = df_combine['name'].value_counts()\n",
    "print(food_count)"
   ]
  },
  {
   "cell_type": "code",
   "execution_count": 17,
   "id": "378b629d",
   "metadata": {},
   "outputs": [
    {
     "name": "stdout",
     "output_type": "stream",
     "text": [
      "            id            name category\n",
      "0      D000006            꿩불고기      구이류\n",
      "1      D000007             닭갈비      구이류\n",
      "2      D000009             닭꼬치      구이류\n",
      "3      D000010            더덕구이      구이류\n",
      "4      D000012            돼지갈비      구이류\n",
      "...        ...             ...      ...\n",
      "12151        5         흑초간장 소스       기타\n",
      "12152        4          흑후추 소스       기타\n",
      "12153        3  흰 미소 된장 두유 베샤멜       기타\n",
      "12154        2         흰 콩 드레싱       기타\n",
      "12155        1     흰색 젤리 코팅 소스       기타\n",
      "\n",
      "[11671 rows x 3 columns]\n"
     ]
    }
   ],
   "source": [
    "df = df_combine.drop_duplicates(subset=['name'])\n",
    "print(df)"
   ]
  },
  {
   "cell_type": "code",
   "execution_count": 18,
   "id": "5bc13463",
   "metadata": {},
   "outputs": [
    {
     "name": "stdout",
     "output_type": "stream",
     "text": [
      "CSV 파일 'menu.csv'로 저장되었습니다.\n"
     ]
    }
   ],
   "source": [
    "# 'name'과 'category' 열만 추출하여 새로운 DataFrame 생성\n",
    "df_subset = df[['name', 'category']]\n",
    "\n",
    "# CSV 파일로 저장\n",
    "csv_filename = 'menu.csv'\n",
    "df_subset.to_csv(csv_filename, index=False)\n",
    "\n",
    "print(f\"CSV 파일 '{csv_filename}'로 저장되었습니다.\")"
   ]
  },
  {
   "cell_type": "code",
   "execution_count": 19,
   "id": "b2b2c04d",
   "metadata": {},
   "outputs": [
    {
     "name": "stdout",
     "output_type": "stream",
     "text": [
      "                 name category\n",
      "0                꿩불고기      구이류\n",
      "1                 닭갈비      구이류\n",
      "2                 닭꼬치      구이류\n",
      "3                더덕구이      구이류\n",
      "4                돼지갈비      구이류\n",
      "...               ...      ...\n",
      "12151         흑초간장 소스       기타\n",
      "12152          흑후추 소스       기타\n",
      "12153  흰 미소 된장 두유 베샤멜       기타\n",
      "12154         흰 콩 드레싱       기타\n",
      "12155     흰색 젤리 코팅 소스       기타\n",
      "\n",
      "[11671 rows x 2 columns]\n"
     ]
    }
   ],
   "source": [
    "print(df_subset)"
   ]
  },
  {
   "cell_type": "code",
   "execution_count": 36,
   "id": "79f24a09",
   "metadata": {},
   "outputs": [
    {
     "name": "stdout",
     "output_type": "stream",
     "text": [
      "             name category\n",
      "0            꿩불고기      구이류\n",
      "1             닭갈비      구이류\n",
      "2             닭꼬치      구이류\n",
      "3            더덕구이      구이류\n",
      "4            돼지갈비      구이류\n",
      "...           ...      ...\n",
      "12151      흑초간장소스       기타\n",
      "12152       흑후추소스       기타\n",
      "12153  흰미소된장두유베샤멜       기타\n",
      "12154       흰콩드레싱       기타\n",
      "12155    흰색젤리코팅소스       기타\n",
      "\n",
      "[11671 rows x 2 columns]\n"
     ]
    }
   ],
   "source": [
    "new_df = df_subset.copy()\n",
    "new_df['name'] = new_df['name'].apply(lambda x: x.replace(' ', ''))\n",
    "print(new_df)"
   ]
  },
  {
   "cell_type": "code",
   "execution_count": 38,
   "id": "b520ab7c",
   "metadata": {},
   "outputs": [
    {
     "name": "stdout",
     "output_type": "stream",
     "text": [
      "             name category\n",
      "0            꿩불고기      구이류\n",
      "1             닭갈비      구이류\n",
      "2             닭꼬치      구이류\n",
      "3            더덕구이      구이류\n",
      "4            돼지갈비      구이류\n",
      "...           ...      ...\n",
      "12151      흑초간장소스       기타\n",
      "12152       흑후추소스       기타\n",
      "12153  흰미소된장두유베샤멜       기타\n",
      "12154       흰콩드레싱       기타\n",
      "12155    흰색젤리코팅소스       기타\n",
      "\n",
      "[11574 rows x 2 columns]\n"
     ]
    }
   ],
   "source": [
    "import re\n",
    "new_df['name'] = new_df['name'].apply(lambda x: re.sub(r'\\([^\\)]*\\)', '', x))\n",
    "new_df = new_df.drop_duplicates(subset=['name'])\n",
    "print(new_df)"
   ]
  },
  {
   "cell_type": "code",
   "execution_count": 39,
   "id": "3ee029d9",
   "metadata": {
    "scrolled": true
   },
   "outputs": [
    {
     "name": "stdout",
     "output_type": "stream",
     "text": [
      "CSV 파일 'menu.csv'로 저장되었습니다.\n"
     ]
    }
   ],
   "source": [
    "# CSV 파일로 저장\n",
    "csv_filename = 'menu.csv'\n",
    "new_df.to_csv(csv_filename, index=False)\n",
    "\n",
    "print(f\"CSV 파일 '{csv_filename}'로 저장되었습니다.\")"
   ]
  },
  {
   "cell_type": "code",
   "execution_count": null,
   "id": "68892138",
   "metadata": {},
   "outputs": [],
   "source": []
  }
 ],
 "metadata": {
  "kernelspec": {
   "display_name": "Python 3 (ipykernel)",
   "language": "python",
   "name": "python3"
  },
  "language_info": {
   "codemirror_mode": {
    "name": "ipython",
    "version": 3
   },
   "file_extension": ".py",
   "mimetype": "text/x-python",
   "name": "python",
   "nbconvert_exporter": "python",
   "pygments_lexer": "ipython3",
   "version": "3.11.5"
  }
 },
 "nbformat": 4,
 "nbformat_minor": 5
}
